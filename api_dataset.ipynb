{
 "cells": [
  {
   "cell_type": "code",
   "execution_count": null,
   "metadata": {},
   "outputs": [],
   "source": [
    "import pandas as pd\n",
    "import pprint\n",
    "from messari.messari import Messari\n",
    "from tabulate import tabulate\n",
    "from dotenv import load_dotenv\n",
    "import os"
   ]
  },
  {
   "cell_type": "code",
   "execution_count": null,
   "metadata": {},
   "outputs": [],
   "source": [
    "dotenv_path = os.path.join(os.getcwd(), '.env')\n",
    "load_dotenv(dotenv_path)\n",
    "messari_api = os.getenv(\"MESSARI_API\")"
   ]
  },
  {
   "cell_type": "code",
   "execution_count": null,
   "metadata": {},
   "outputs": [],
   "source": [
    "messari = Messari(messari_api)\n",
    "assetsData = messari.get_all_assets(limit=500)[\"data\"]"
   ]
  },
  {
   "cell_type": "code",
   "execution_count": null,
   "metadata": {},
   "outputs": [],
   "source": [
    "columns = list(pd.DataFrame(assetsData).columns)\n",
    "metrics = list(assetsData[0][\"metrics\"].keys())\n",
    "profile = list(assetsData[0][\"profile\"].keys())\n",
    "\n",
    "metricsKeys = {}\n",
    "profileKeys = {}\n",
    "\n",
    "for i in range(len(metrics)):\n",
    "    try:\n",
    "        metricsKeys[metrics[i]] = list(assetsData[0][\"metrics\"][metrics[i]].keys())\n",
    "    except:\n",
    "        pass\n",
    "\n",
    "for i in range(len(profile)):\n",
    "    try:\n",
    "        profileKeys[profile[i]] = list(assetsData[0][\"profile\"][profile[i]].keys())\n",
    "    except:\n",
    "        pass\n",
    "\n",
    "\n",
    "\n",
    "print(columns)\n",
    "print(\"\\n\")\n",
    "print(metricsKeys.keys())\n",
    "print(\"\\n\")\n",
    "print(profileKeys.keys())\n",
    "#print(\"\\n\")\n",
    "#print(symbols)"
   ]
  },
  {
   "cell_type": "code",
   "execution_count": null,
   "metadata": {},
   "outputs": [],
   "source": [
    "masterlist = []\n",
    "\n",
    "useMetricKeys = [\"market_data\", \"marketcap\", \"supply\", \"token_sale_stats\", \"developer_activity\", \"roi_data\", \"roi_by_year\", \"risk_metrics\", \"supply_activity\", \"supply_distribution\"]\n",
    "useProfKeys = ['economics', 'governance']\n",
    "# for each asset\n",
    "for asset in range(len(assetsData)):\n",
    "    assetdict = {}\n",
    "    assetdict[\"name\"] =  assetsData[asset][\"name\"]\n",
    "    assetdict[\"symbol\"] = assetsData[asset][\"symbol\"]\n",
    "\n",
    "    # for each metric in the asset\n",
    "    for metKey in metricsKeys:\n",
    "        # if metric is in the list of metrics to use\n",
    "        if metKey in useMetricKeys:\n",
    "            # for each column within the metric key\n",
    "            for k in metricsKeys[metKey]:\n",
    "                # if column itself has a list of values \n",
    "                if type(assetsData[asset][\"metrics\"][metKey][k]) == dict:\n",
    "                    # separate the list of values into separate columns\n",
    "                    for dk in assetsData[asset][\"metrics\"][metKey][k]:\n",
    "                        assetdict[k+\"__\"+dk] = assetsData[asset][\"metrics\"][metKey][k][dk]\n",
    "                # otherwise store as column value\n",
    "                else:\n",
    "                    assetdict[k] = assetsData[asset][\"metrics\"][metKey][k]\n",
    "        else:\n",
    "            pass\n",
    "\n",
    "    # for each profile in the asset\n",
    "    for profKey in profileKeys:\n",
    "        # if profile is in the list of profiles to use\n",
    "        if profKey in useProfKeys:\n",
    "            # for each column within the profile key\n",
    "            for k in profileKeys[profKey]:\n",
    "                if k in [\"grants\"]:\n",
    "                    pass\n",
    "                else:\n",
    "                    # if column itself has a list of values \n",
    "                    if type(assetsData[asset][\"profile\"][profKey][k]) == dict:\n",
    "                        # separate the list of values into separate columns\n",
    "                        for dk in assetsData[asset][\"profile\"][profKey][k]:\n",
    "                            # if profile:economics:block_explorer don't bother\n",
    "                            if dk in [\"block_explorers\", \"accounts\", \"multitoken\"]:\n",
    "                                pass\n",
    "                            else:\n",
    "                                #if recursive dictionary do it again\n",
    "                                if type(assetsData[asset][\"profile\"][profKey][k][dk]) == dict:\n",
    "                                    for ddk in assetsData[asset][\"profile\"][profKey][k][dk]:\n",
    "                                        assetdict[dk+\"__\"+ddk] = assetsData[asset][\"profile\"][profKey][k][dk][ddk]\n",
    "                                elif type(assetsData[asset][\"profile\"][profKey][k][dk]) == list:\n",
    "                                    if len(assetsData[asset][\"profile\"][profKey][k][dk]) == 0:\n",
    "                                        assetdict[k+\"__\"+dk] = None\n",
    "                                    else:\n",
    "                                        print(k+\"__\"+dk, assetsData[asset][\"profile\"][profKey][k][dk])\n",
    "                                else:\n",
    "                                    assetdict[k+\"__\"+dk] = assetsData[asset][\"profile\"][profKey][k][dk]\n",
    "\n",
    "                    # otherwise store as column value\n",
    "                    elif type(assetsData[asset][\"profile\"][profKey][k]) == list:\n",
    "                        if len(assetsData[asset][\"profile\"][profKey][k]) == 0:\n",
    "                            assetdict[k] = None\n",
    "                        else:\n",
    "                            pass\n",
    "                    else:\n",
    "                        assetdict[k] = assetsData[asset][\"profile\"][profKey][k]\n",
    "        else:\n",
    "            pass\n",
    "    \n",
    "    # append in master list\n",
    "    masterlist.append(assetdict)\n",
    "\n",
    "# store as dataframe\n",
    "assetdf = pd.DataFrame(masterlist)\n",
    "assetdf"
   ]
  },
  {
   "cell_type": "code",
   "execution_count": null,
   "metadata": {},
   "outputs": [],
   "source": [
    "# write to csv as well as plaintext\n",
    "assetdf.to_csv(\"assets.csv\")\n",
    "with open('table.txt', 'w') as f:\n",
    "    f.write(tabulate(assetdf, headers='keys', tablefmt='grid'))"
   ]
  }
 ],
 "metadata": {
  "interpreter": {
   "hash": "f6981b284c35058a05b1ae775caebf1d0712032dfb9413dc3ec4ea98cceb40b0"
  },
  "kernelspec": {
   "display_name": "Python 3.9.10 ('venv': venv)",
   "language": "python",
   "name": "python3"
  },
  "language_info": {
   "codemirror_mode": {
    "name": "ipython",
    "version": 3
   },
   "file_extension": ".py",
   "mimetype": "text/x-python",
   "name": "python",
   "nbconvert_exporter": "python",
   "pygments_lexer": "ipython3",
   "version": "3.9.10"
  },
  "orig_nbformat": 4
 },
 "nbformat": 4,
 "nbformat_minor": 2
}
